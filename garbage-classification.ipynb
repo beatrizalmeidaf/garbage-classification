{
 "cells": [
  {
   "cell_type": "markdown",
   "id": "327f0be7",
   "metadata": {},
   "source": [
    "# Garbage Classification"
   ]
  },
  {
   "cell_type": "code",
   "execution_count": 35,
   "id": "02f00b43",
   "metadata": {},
   "outputs": [],
   "source": [
    "import os\n",
    "import pandas as pd \n",
    "import numpy as np \n",
    "import seaborn as sns\n",
    "import matplotlib.pyplot as plt \n",
    "\n",
    "import torch\n",
    "import torchvision.transforms as transforms\n",
    "\n",
    "from torchvision.datasets import ImageFolder\n",
    "from torch.utils.data import DataLoader, random_split\n",
    "\n",
    "from PIL import Image"
   ]
  },
  {
   "cell_type": "code",
   "execution_count": 9,
   "id": "c699371c",
   "metadata": {},
   "outputs": [
    {
     "data": {
      "text/plain": [
       "['cardboard', 'glass', 'metal', 'paper', 'plastic', 'trash']"
      ]
     },
     "execution_count": 9,
     "metadata": {},
     "output_type": "execute_result"
    }
   ],
   "source": [
    "\n",
    "data_path = \"data/\"\n",
    "folders = os.listdir(data_path)\n",
    "\n",
    "classes = [classe for classe in folders if os.path.isdir(os.path.join(data_path, classe))]\n",
    "classes "
   ]
  },
  {
   "cell_type": "markdown",
   "id": "beb15392",
   "metadata": {},
   "source": [
    "### Redimensionamento"
   ]
  },
  {
   "cell_type": "code",
   "execution_count": 18,
   "id": "1f64a5f5",
   "metadata": {},
   "outputs": [
    {
     "data": {
      "text/plain": [
       "(512, 384)"
      ]
     },
     "execution_count": 18,
     "metadata": {},
     "output_type": "execute_result"
    }
   ],
   "source": [
    "exemplo_path = os.path.join(data_path, \"cardboard/cardboard1.jpg\")\n",
    "imagem_exemplo = Image.open(exemplo_path)\n",
    "imagem_exemplo.size"
   ]
  },
  {
   "cell_type": "code",
   "execution_count": 30,
   "id": "c80b9b4b",
   "metadata": {},
   "outputs": [],
   "source": [
    "dataset = ImageFolder(\n",
    "    root=data_path,\n",
    "    transform=transforms.Compose([\n",
    "        transforms.Resize((256, 256)),\n",
    "        transforms.ToTensor()\n",
    "    ])\n",
    ")\n",
    "\n",
    "dataloader = torch.utils.data.DataLoader(dataset, batch_size=32, shuffle=True)\n",
    "\n",
    "for batch_images, batch_labels in dataloader:\n",
    "    pass"
   ]
  },
  {
   "cell_type": "code",
   "execution_count": 32,
   "id": "6d959e00",
   "metadata": {},
   "outputs": [
    {
     "name": "stdout",
     "output_type": "stream",
     "text": [
      "['cardboard', 'glass', 'metal', 'paper', 'plastic', 'trash']\n",
      "{'cardboard': 0, 'glass': 1, 'metal': 2, 'paper': 3, 'plastic': 4, 'trash': 5}\n"
     ]
    }
   ],
   "source": [
    "print(dataset.classes) \n",
    "print(dataset.class_to_idx)  "
   ]
  },
  {
   "cell_type": "markdown",
   "id": "ab082281",
   "metadata": {},
   "source": [
    "### Dividindo Dados"
   ]
  },
  {
   "cell_type": "code",
   "execution_count": 34,
   "id": "203e5fd0",
   "metadata": {},
   "outputs": [
    {
     "data": {
      "text/plain": [
       "(1593, 176, 758)"
      ]
     },
     "execution_count": 34,
     "metadata": {},
     "output_type": "execute_result"
    }
   ],
   "source": [
    "random_seed = 42\n",
    "\n",
    "train_data, val_data, test_data = random_split(dataset, [1593, 176, 758])\n",
    "len(train_data), len(val_data), len(test_data)"
   ]
  },
  {
   "cell_type": "markdown",
   "id": "629c4986",
   "metadata": {},
   "source": [
    "##### Carregamento de dados de forma eficiente -> DataLoader"
   ]
  },
  {
   "cell_type": "code",
   "execution_count": 36,
   "id": "d3c811a2",
   "metadata": {},
   "outputs": [],
   "source": [
    "train_dataloader = DataLoader(train_data, batch_size=32, shuffle=True, num_workers=2)\n",
    "test_dataloader = DataLoader(test_data, batch_size=32, num_workers=2)"
   ]
  },
  {
   "cell_type": "markdown",
   "id": "0fd62728",
   "metadata": {},
   "source": [
    "### Modelo"
   ]
  }
 ],
 "metadata": {
  "kernelspec": {
   "display_name": "base_reinstalado",
   "language": "python",
   "name": "python3"
  },
  "language_info": {
   "codemirror_mode": {
    "name": "ipython",
    "version": 3
   },
   "file_extension": ".py",
   "mimetype": "text/x-python",
   "name": "python",
   "nbconvert_exporter": "python",
   "pygments_lexer": "ipython3",
   "version": "3.12.3"
  }
 },
 "nbformat": 4,
 "nbformat_minor": 5
}
